{
 "cells": [
  {
   "cell_type": "code",
   "execution_count": 5,
   "metadata": {},
   "outputs": [
    {
     "name": "stdout",
     "output_type": "stream",
     "text": [
      "* Loading Keras model and Flask starting server...please wait until server has fully started\n"
     ]
    },
    {
     "ename": "TypeError",
     "evalue": "load_model() missing 1 required positional argument: 'filepath'",
     "output_type": "error",
     "traceback": [
      "\u001b[0;31m---------------------------------------------------------------------------\u001b[0m",
      "\u001b[0;31mTypeError\u001b[0m                                 Traceback (most recent call last)",
      "\u001b[0;32m<ipython-input-5-7ab4e0eac888>\u001b[0m in \u001b[0;36m<module>\u001b[0;34m()\u001b[0m\n\u001b[1;32m     84\u001b[0m \tprint((\"* Loading Keras model and Flask starting server...\"\n\u001b[1;32m     85\u001b[0m \t\t\"please wait until server has fully started\"))\n\u001b[0;32m---> 86\u001b[0;31m         \u001b[0mload_model\u001b[0m\u001b[0;34m(\u001b[0m\u001b[0;34m)\u001b[0m\u001b[0;34m\u001b[0m\u001b[0m\n\u001b[0m\u001b[1;32m     87\u001b[0m         \u001b[0mapp\u001b[0m\u001b[0;34m.\u001b[0m\u001b[0mrun\u001b[0m\u001b[0;34m(\u001b[0m\u001b[0;34m)\u001b[0m\u001b[0;34m\u001b[0m\u001b[0m\n",
      "\u001b[0;31mTypeError\u001b[0m: load_model() missing 1 required positional argument: 'filepath'"
     ]
    }
   ],
   "source": [
    "# USAGE\n",
    "# Start the server:\n",
    "# \tpython run_keras_server.py\n",
    "# Submit a request via cURL:\n",
    "# \tcurl -X POST -F image=@dog.jpg 'http://localhost:5000/predict'\n",
    "# Submita a request via Python:\n",
    "#\tpython simple_request.py\n",
    "\n",
    "# import the necessary packages\n",
    "from keras.applications import ResNet50\n",
    "from keras.models import load_model\n",
    "from keras.preprocessing.image import img_to_array\n",
    "from keras.applications import imagenet_utils\n",
    "from PIL import Image\n",
    "import keras\n",
    "import numpy as np\n",
    "import flask\n",
    "import io\n",
    "\n",
    "# initialize our Flask application and the Keras model\n",
    "app = flask.Flask(__name__)\n",
    "model = None\n",
    "\n",
    "\n",
    "def loaded_model():\n",
    "    # load the pre-trained Keras model (here we are using a model\n",
    "    # pre-trained on ImageNet and provided by Keras, but you can\n",
    "    # substitute in your own networks just as easily)\n",
    "    \n",
    "    model = load_model(filepath ='saved_models/weights.best.Resnet50.hdf5')\n",
    "\n",
    "\n",
    "def prepare_image(image, target):\n",
    "\t# if the image mode is not RGB, convert it\n",
    "\tif image.mode != \"RGB\":\n",
    "\t\timage = image.convert(\"RGB\")\n",
    "\n",
    "\t# resize the input image and preprocess it\n",
    "\timage = image.resize(target)\n",
    "\timage = img_to_array(image)\n",
    "\timage = np.expand_dims(image, axis=0)\n",
    "\timage = imagenet_utils.preprocess_input(image)\n",
    "\n",
    "\t# return the processed image\n",
    "\treturn image\n",
    "\n",
    "@app.route(\"/predict\", methods=[\"POST\"])\n",
    "def predict():\n",
    "\t# initialize the data dictionary that will be returned from the\n",
    "\t# view\n",
    "\tdata = {\"success\": False}\n",
    "\n",
    "\t# ensure an image was properly uploaded to our endpoint\n",
    "\tif flask.request.method == \"POST\":\n",
    "\t\tif flask.request.files.get(\"image\"):\n",
    "\t\t\t# read the image in PIL format\n",
    "\t\t\timage = flask.request.files[\"image\"].read()\n",
    "\t\t\timage = Image.open(io.BytesIO(image))\n",
    "\n",
    "\t\t\t# preprocess the image and prepare it for classification\n",
    "\t\t\timage = prepare_image(image, target=(224, 224))\n",
    "\n",
    "\t\t\t# classify the input image and then initialize the list\n",
    "\t\t\t# of predictions to return to the client\n",
    "\t\t\tpreds = model.predict(image)\n",
    "\t\t\tresults = imagenet_utils.decode_predictions(preds)\n",
    "\t\t\tdata[\"predictions\"] = []\n",
    "\n",
    "\t\t\t# loop over the results and add them to the list of\n",
    "\t\t\t# returned predictions\n",
    "\t\t\tfor (imagenetID, label, prob) in results[0]:\n",
    "\t\t\t\tr = {\"label\": label, \"probability\": float(prob)}\n",
    "\t\t\t\tdata[\"predictions\"].append(r)\n",
    "\n",
    "\t\t\t# indicate that the request was a success\n",
    "\t\t\tdata[\"success\"] = True\n",
    "\n",
    "\t# return the data dictionary as a JSON response\n",
    "\treturn flask.jsonify(data)\n",
    "\n",
    "# if this is the main thread of execution first load the model and\n",
    "# then start the server\n",
    "if __name__ == \"__main__\":\n",
    "\tprint((\"* Loading Keras model and Flask starting server...\"\n",
    "\t\t\"please wait until server has fully started\"))\n",
    "\tload_model()\n",
    "\tapp.run()"
   ]
  },
  {
   "cell_type": "code",
   "execution_count": 6,
   "metadata": {},
   "outputs": [
    {
     "name": "stdout",
     "output_type": "stream",
     "text": [
      "_________________________________________________________________\n",
      "Layer (type)                 Output Shape              Param #   \n",
      "=================================================================\n",
      "global_average_pooling2d_2 ( (None, 2048)              0         \n",
      "_________________________________________________________________\n",
      "dense_2 (Dense)              (None, 133)               272517    \n",
      "=================================================================\n",
      "Total params: 272,517\n",
      "Trainable params: 272,517\n",
      "Non-trainable params: 0\n",
      "_________________________________________________________________\n"
     ]
    }
   ],
   "source": [
    "load_model('saved_models/weights.best.Resnet50.hdf5').summary()"
   ]
  },
  {
   "cell_type": "code",
   "execution_count": null,
   "metadata": {},
   "outputs": [],
   "source": []
  }
 ],
 "metadata": {
  "kernelspec": {
   "display_name": "Python 3",
   "language": "python",
   "name": "python3"
  },
  "language_info": {
   "codemirror_mode": {
    "name": "ipython",
    "version": 3
   },
   "file_extension": ".py",
   "mimetype": "text/x-python",
   "name": "python",
   "nbconvert_exporter": "python",
   "pygments_lexer": "ipython3",
   "version": "3.6.3"
  }
 },
 "nbformat": 4,
 "nbformat_minor": 2
}
